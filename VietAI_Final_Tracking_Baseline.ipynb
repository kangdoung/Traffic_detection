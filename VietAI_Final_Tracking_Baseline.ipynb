{
  "nbformat": 4,
  "nbformat_minor": 0,
  "metadata": {
    "colab": {
      "name": "VietAI_Final_Tracking_Baseline.ipynb",
      "provenance": [],
      "collapsed_sections": [],
      "include_colab_link": true
    },
    "kernelspec": {
      "name": "python3",
      "display_name": "Python 3"
    },
    "accelerator": "GPU"
  },
  "cells": [
    {
      "cell_type": "markdown",
      "metadata": {
        "id": "view-in-github",
        "colab_type": "text"
      },
      "source": [
        "<a href=\"https://colab.research.google.com/github/kangdoung/Traffic_detection/blob/main/VietAI_Final_Tracking_Baseline.ipynb\" target=\"_parent\"><img src=\"https://colab.research.google.com/assets/colab-badge.svg\" alt=\"Open In Colab\"/></a>"
      ]
    },
    {
      "cell_type": "code",
      "metadata": {
        "id": "KrCFZ2gXL2e8",
        "colab": {
          "base_uri": "https://localhost:8080/"
        },
        "outputId": "c5654e54-d66f-41f5-c246-83d72a2535ca"
      },
      "source": [
        "!nvidia-smi"
      ],
      "execution_count": null,
      "outputs": [
        {
          "output_type": "stream",
          "text": [
            "Sat Nov 14 09:10:45 2020       \n",
            "+-----------------------------------------------------------------------------+\n",
            "| NVIDIA-SMI 455.32.00    Driver Version: 418.67       CUDA Version: 10.1     |\n",
            "|-------------------------------+----------------------+----------------------+\n",
            "| GPU  Name        Persistence-M| Bus-Id        Disp.A | Volatile Uncorr. ECC |\n",
            "| Fan  Temp  Perf  Pwr:Usage/Cap|         Memory-Usage | GPU-Util  Compute M. |\n",
            "|                               |                      |               MIG M. |\n",
            "|===============================+======================+======================|\n",
            "|   0  Tesla T4            Off  | 00000000:00:04.0 Off |                    0 |\n",
            "| N/A   61C    P8    10W /  70W |      0MiB / 15079MiB |      0%      Default |\n",
            "|                               |                      |                 ERR! |\n",
            "+-------------------------------+----------------------+----------------------+\n",
            "                                                                               \n",
            "+-----------------------------------------------------------------------------+\n",
            "| Processes:                                                                  |\n",
            "|  GPU   GI   CI        PID   Type   Process name                  GPU Memory |\n",
            "|        ID   ID                                                   Usage      |\n",
            "|=============================================================================|\n",
            "|  No running processes found                                                 |\n",
            "+-----------------------------------------------------------------------------+\n"
          ],
          "name": "stdout"
        }
      ]
    },
    {
      "cell_type": "markdown",
      "metadata": {
        "id": "dSTJpRgyGR2d"
      },
      "source": [
        "#Mount from drive to colab disk"
      ]
    },
    {
      "cell_type": "code",
      "metadata": {
        "id": "qijECU8JUfj2",
        "colab": {
          "base_uri": "https://localhost:8080/"
        },
        "outputId": "4947114e-ff53-47a5-b3b4-99ccf519b183"
      },
      "source": [
        "from google.colab import drive\n",
        "drive.mount('/content/drive', force_remount=True)"
      ],
      "execution_count": null,
      "outputs": [
        {
          "output_type": "stream",
          "text": [
            "Mounted at /content/drive\n"
          ],
          "name": "stdout"
        }
      ]
    },
    {
      "cell_type": "code",
      "metadata": {
        "id": "yADrrJSv4Yzj",
        "colab": {
          "base_uri": "https://localhost:8080/"
        },
        "outputId": "feec8657-dcd1-4dc3-b0c9-412e4807e8c8"
      },
      "source": [
        "from google.colab import drive\n",
        "drive.mount('/content/drive', force_remount=True)"
      ],
      "execution_count": null,
      "outputs": [
        {
          "output_type": "stream",
          "text": [
            "Mounted at /content/drive\n"
          ],
          "name": "stdout"
        }
      ]
    },
    {
      "cell_type": "code",
      "metadata": {
        "id": "42ozAEAfGVE8"
      },
      "source": [
        ""
      ],
      "execution_count": null,
      "outputs": []
    },
    {
      "cell_type": "markdown",
      "metadata": {
        "id": "GucnIJEFGXld"
      },
      "source": [
        "#Clone github chứa code Deepsort Và một số xử lý.\n",
        "\n",
        "#Refereces: Github này của một người bạn của em code trong lúc làm HCMC AI City. @Nguyễn Hoàng Quân FIT HCMUS"
      ]
    },
    {
      "cell_type": "code",
      "metadata": {
        "id": "6jJIjAs3L6Sm",
        "colab": {
          "base_uri": "https://localhost:8080/"
        },
        "outputId": "618f5930-eb0f-4312-95d4-e3a8dea324a8"
      },
      "source": [
        "!git clone https://github.com/wan2000/DeepSORT.git"
      ],
      "execution_count": null,
      "outputs": [
        {
          "output_type": "stream",
          "text": [
            "Cloning into 'DeepSORT'...\n",
            "remote: Enumerating objects: 48, done.\u001b[K\n",
            "remote: Counting objects: 100% (48/48), done.\u001b[K\n",
            "remote: Compressing objects: 100% (37/37), done.\u001b[K\n",
            "remote: Total 48 (delta 16), reused 35 (delta 9), pack-reused 0\u001b[K\n",
            "Unpacking objects: 100% (48/48), done.\n"
          ],
          "name": "stdout"
        }
      ]
    },
    {
      "cell_type": "code",
      "metadata": {
        "id": "9d8s2AmbMZg6",
        "colab": {
          "base_uri": "https://localhost:8080/"
        },
        "outputId": "cb083e0b-81e7-4fb9-85ba-ef58463e3645"
      },
      "source": [
        "%cd DeepSORT"
      ],
      "execution_count": null,
      "outputs": [
        {
          "output_type": "stream",
          "text": [
            "/content/DeepSORT\n"
          ],
          "name": "stdout"
        }
      ]
    },
    {
      "cell_type": "code",
      "metadata": {
        "id": "2XmBFWhiN1sn"
      },
      "source": [
        "import cv2\n",
        "import numpy as np\n",
        "import json\n",
        "import random"
      ],
      "execution_count": null,
      "outputs": []
    },
    {
      "cell_type": "code",
      "metadata": {
        "id": "r1NpYM2_Mbip",
        "colab": {
          "base_uri": "https://localhost:8080/"
        },
        "outputId": "197dbbed-f155-4b46-e8b7-ec017964c77e"
      },
      "source": [
        "from deep_sort import nn_matching\n",
        "from deep_sort.detection import Detection\n",
        "from deep_sort.tracker import Tracker\n",
        "from tools import generate_detections as gdet"
      ],
      "execution_count": null,
      "outputs": [
        {
          "output_type": "stream",
          "text": [
            "/usr/local/lib/python3.6/dist-packages/sklearn/utils/linear_assignment_.py:22: FutureWarning: The linear_assignment_ module is deprecated in 0.21 and will be removed from 0.23. Use scipy.optimize.linear_sum_assignment instead.\n",
            "  FutureWarning)\n"
          ],
          "name": "stderr"
        }
      ]
    },
    {
      "cell_type": "markdown",
      "metadata": {
        "id": "Bw5bzK2zGqtg"
      },
      "source": [
        "#Định nghĩa threshold cho từng loại class: Theo nhóm nhận thấy thì object nhỏ tỉ lệ cao sẽ có confidence scores nhỏ."
      ]
    },
    {
      "cell_type": "code",
      "metadata": {
        "id": "hggvrK0pN2i6"
      },
      "source": [
        "# Options\n",
        "threshold = {\n",
        "    1 : 0.0,\n",
        "    2 : 0.2,\n",
        "    3 : 0.3,\n",
        "    4 : 0.4\n",
        "}"
      ],
      "execution_count": null,
      "outputs": []
    },
    {
      "cell_type": "markdown",
      "metadata": {
        "id": "h-mchiC9G6xY"
      },
      "source": [
        "#Tải weight của model DeepSort"
      ]
    },
    {
      "cell_type": "code",
      "metadata": {
        "id": "uK9crpV6Py90",
        "colab": {
          "base_uri": "https://localhost:8080/"
        },
        "outputId": "c31d44fd-afc4-4a19-b937-453bab63df0f"
      },
      "source": [
        "!mkdir model_data\n",
        "from google_drive_downloader import GoogleDriveDownloader as gdd\n",
        "gdd.download_file_from_google_drive(file_id='1bB66hP9voDXuoBoaCcKYY7a8IYzMMs4P', dest_path='model_data/mars-small128.pb', unzip=False)"
      ],
      "execution_count": null,
      "outputs": [
        {
          "output_type": "stream",
          "text": [
            "Downloading 1bB66hP9voDXuoBoaCcKYY7a8IYzMMs4P into model_data/mars-small128.pb... Done.\n"
          ],
          "name": "stdout"
        }
      ]
    },
    {
      "cell_type": "markdown",
      "metadata": {
        "id": "9eQ0pgIHG9WX"
      },
      "source": [
        "#Một số hàm để đọc dữ liệu\n",
        "#References: baseline của BTC - https://github.com/hcmcaic/ai-challenge-2020"
      ]
    },
    {
      "cell_type": "code",
      "metadata": {
        "id": "pvEma1SFgVgj"
      },
      "source": [
        "import json\n",
        "def load_zone_anno(json_filename):\n",
        "  \"\"\"\n",
        "  Load the json with ROI and MOI annotation.\n",
        "\n",
        "  \"\"\"\n",
        "  with open(json_filename) as jsonfile:\n",
        "    dd = json.load(jsonfile)\n",
        "    polygon = [(int(x), int(y)) for x, y in dd['shapes'][0]['points']]\n",
        "    paths = {}\n",
        "    for it in dd['shapes'][1:]:\n",
        "      kk = str(int(it['label'][-2:]))\n",
        "      paths[kk] = [(int(x), int(y)) for x, y\n",
        "              in it['points']]\n",
        "  return polygon, paths"
      ],
      "execution_count": null,
      "outputs": []
    },
    {
      "cell_type": "code",
      "metadata": {
        "id": "YqrMUdmvgxVe"
      },
      "source": [
        "import bb_polygon\n",
        "def check_bbox_intersect_polygon(polygon, bbox):\n",
        "  \"\"\"\n",
        "  \n",
        "  Args:\n",
        "    polygon: List of points (x,y)\n",
        "    bbox: A tuple (xmin, ymin, xmax, ymax)\n",
        "  \n",
        "  Returns:\n",
        "    True if the bbox intersect the polygon\n",
        "  \"\"\"\n",
        "  x1, y1, x2, y2 = bbox\n",
        "  bb = [(x1,y1), (x2, y1), (x2,y2), (x1,y2)]\n",
        "  return bb_polygon.is_bounding_box_intersect(bb, polygon)"
      ],
      "execution_count": null,
      "outputs": []
    },
    {
      "cell_type": "markdown",
      "metadata": {
        "id": "rPxVMAA2HRFc"
      },
      "source": [
        "#Định nghĩa hàm NMS (Non Maximum Suppression) để loại bỏ box đè nhau trong cùng 1 object."
      ]
    },
    {
      "cell_type": "code",
      "metadata": {
        "id": "FXWcKsTUsApP"
      },
      "source": [
        "def hard_nms(boxes, label, scores, iou_thresh=None):\n",
        "    \"\"\"The basic hard non-maximum suppression.\n",
        "    Args:\n",
        "        dets: detection with shape (num, 5) and format [x1, y1, x2, y2, score].\n",
        "        iou_thresh: IOU threshold,\n",
        "    Returns:\n",
        "        numpy.array: Retained boxes.\n",
        "    \"\"\"\n",
        "    iou_thresh = iou_thresh or 0.5\n",
        "    x1 = boxes[:, 0]\n",
        "    y1 = boxes[:, 1]\n",
        "    x2 = boxes[:, 2]\n",
        "    y2 = boxes[:, 3]\n",
        "\n",
        "    areas = (x2 - x1 + 1) * (y2 - y1 + 1)\n",
        "    order = scores.argsort()[::-1]\n",
        "\n",
        "    keep = []\n",
        "    while order.size > 0:\n",
        "        i = order[0]\n",
        "        keep.append(i)\n",
        "        xx1 = np.maximum(x1[i], x1[order[1:]])\n",
        "        yy1 = np.maximum(y1[i], y1[order[1:]])\n",
        "        xx2 = np.minimum(x2[i], x2[order[1:]])\n",
        "        yy2 = np.minimum(y2[i], y2[order[1:]])\n",
        "\n",
        "        w = np.maximum(0.0, xx2 - xx1 + 1)\n",
        "        h = np.maximum(0.0, yy2 - yy1 + 1)\n",
        "        intersection = w * h\n",
        "        overlap = intersection / (areas[i] + areas[order[1:]] - intersection)\n",
        "\n",
        "        inds = np.where(overlap <= iou_thresh)[0]\n",
        "        order = order[inds + 1]\n",
        "\n",
        "    return boxes[keep], label[keep], scores[keep]\n",
        "def hard_nms_per_class(boxes, labels, scores, iou_thresh = 0.3):\n",
        "  new_boxes = []\n",
        "  new_labels = []\n",
        "  new_scores = []\n",
        "  for l in range(1, 5):\n",
        "    indices = np.where(labels == l)[0]\n",
        "    temp_boxes = boxes[indices]\n",
        "    temp_labels = labels[indices]\n",
        "    temp_scores = scores[indices]\n",
        "    temp_boxes, temp_labels, temp_scores = hard_nms(temp_boxes, temp_labels, temp_scores, iou_thresh)\n",
        "    if l == 1:\n",
        "      new_boxes, new_labels, new_scores = temp_boxes, temp_labels, temp_scores\n",
        "    else:\n",
        "      new_boxes = np.concatenate([new_boxes, temp_boxes])\n",
        "      new_labels = np.concatenate([new_labels, temp_labels])\n",
        "      new_scores = np.concatenate([new_scores, temp_scores])\n",
        "  return new_boxes, new_labels, new_scores\n"
      ],
      "execution_count": null,
      "outputs": []
    },
    {
      "cell_type": "markdown",
      "metadata": {
        "id": "aEJQ_i0THfpS"
      },
      "source": [
        "#Hàm trả về label của một tracking_box, ở hàm này tụi mình sử dụng IoU metrics."
      ]
    },
    {
      "cell_type": "code",
      "metadata": {
        "id": "OqKUe4AsQiEu"
      },
      "source": [
        "def find_tracking_label(tracking_box, boxes, iou_thresh = 0.3):\n",
        "    '''\n",
        "    Args:\n",
        "        tracking_box: shape (4) and format [x_min, y_min, x_max, y_max]\n",
        "        boxes: detection with shape (num, 5) and format [x1, y1, x2, y2, label]\n",
        "    Returns:\n",
        "        label of the tracking box\n",
        "    '''\n",
        "    if len(boxes) == 0:\n",
        "        return -1\n",
        "    x1 = boxes[:, 0]\n",
        "    y1 = boxes[:, 1]\n",
        "    x2 = boxes[:, 2]\n",
        "    y2 = boxes[:, 3]\n",
        "    areas = (x2 - x1 + 1) * (y2 - y1 + 1)\n",
        "\n",
        "    x_min, y_min, x_max, y_max = tracking_box\n",
        "    tracking_area = (x_max - x_min + 1) * (y_max - y_min + 1)\n",
        "\n",
        "    xx1 = np.maximum(x_min, x1)\n",
        "    yy1 = np.maximum(y_min, y1)\n",
        "    xx2 = np.minimum(x_max, x2)\n",
        "    yy2 = np.minimum(y_max, y2)\n",
        "\n",
        "    w = np.maximum(0.0, xx2 - xx1 + 1)\n",
        "    h = np.maximum(0.0, yy2 - yy1 + 1)\n",
        "    intersection = w * h\n",
        "\n",
        "    iou = intersection / (areas + tracking_area - intersection)\n",
        "    \n",
        "    if np.max(iou) < iou_thresh:\n",
        "        return -1\n",
        "    return boxes[np.argmax(iou), -1]"
      ],
      "execution_count": null,
      "outputs": []
    },
    {
      "cell_type": "markdown",
      "metadata": {
        "id": "AyFWUj0uHnlW"
      },
      "source": [
        "#Hàm tính độ tương đương cosin giữa 2 vectors."
      ]
    },
    {
      "cell_type": "code",
      "metadata": {
        "id": "vnzAQ8_yc8hO"
      },
      "source": [
        "def cosin_similarity(a2d, b2d):  \n",
        "  a = np.array((a2d[1][0] - a2d[0][0], a2d[1][1] - a2d[0][1]))\n",
        "  b = np.array((b2d[1][0] - b2d[0][0], b2d[1][1] - b2d[0][1]))\n",
        "  return np.dot(a, b)/(np.linalg.norm(a)*np.linalg.norm(b))"
      ],
      "execution_count": null,
      "outputs": []
    },
    {
      "cell_type": "markdown",
      "metadata": {
        "id": "2Gfpt07dI-o5"
      },
      "source": [
        ""
      ]
    },
    {
      "cell_type": "markdown",
      "metadata": {
        "id": "qkccfa1pIBKs"
      },
      "source": [
        "#Sử lý từng camera và in ra files tracking_{cam_num}.txt theo thứ tự sau:\n",
        "#1. Đọc dữ liệu detections từ file {cam_num}.txt, file json và file zip chứa các frame ảnh.\n",
        "#2. Khởi tạo model DeepSort với weight pretrained đã được download ở trên\n",
        "#3. Mỗi frame, đưa mỗi box vào tracking để update tracking rồi in ra file txt theo định dạng: {track_id, x_min, y_min, x_max, y_max, frame_id, label} có nghĩa: id của tracking, {x_min, y_min, x_max, y_max} là box của tracking, id của frame và label của box tracking đấy.\n",
        "#4. Sau đó, chạy file moi_counting.py ở github được đề cập ở trên (https://github.com/wan2000/DeepSORT/tree/master/deep_sort) để lấy files result_{cam_num}.txt là kết quả cho camera thứ cam_num:\n"
      ]
    },
    {
      "cell_type": "code",
      "metadata": {
        "id": "S7rfebBFRBHe",
        "colab": {
          "base_uri": "https://localhost:8080/"
        },
        "outputId": "5638dbbd-a97e-442f-e1ee-9d16dac934f0"
      },
      "source": [
        "import os\n",
        "from tqdm.notebook import tqdm\n",
        "\n",
        "for idx in range(1, 11):\n",
        "    cam_num = 'cam_%02d' % idx\n",
        "    print(\"Copying and unzipping {}\".format(cam_num))\n",
        "    !rm -rf datasets\n",
        "    !mkdir datasets\n",
        "    !mkdir datasets/{cam_num}\n",
        "    !cp '/content/drive/My Drive/VietAI - Final Project/detections/new_detection/retrain_2/{cam_num}.txt' datasets/{cam_num}.txt\n",
        "    !cp '/content/drive/My Drive/VietAI - Final Project/json_file/{cam_num}.json' datasets/{cam_num}.json\n",
        "    !cp \"/content/drive/My Drive/VietAI - Final Project/New ZIP/{cam_num}.zip\" 'datasets/{cam_num}.zip'\n",
        "    %cd datasets\n",
        "    !unzip -q {cam_num}.zip -d {cam_num}\n",
        "    !rm {cam_num}.zip\n",
        "    %cd ..\n",
        "\n",
        "    f = open('datasets/{}.txt'.format(cam_num))\n",
        "    events = f.readlines()\n",
        "\n",
        "    polygon, paths = load_zone_anno('datasets/{}.json'.format(cam_num))\n",
        "\n",
        "    # Definition of the parameters\n",
        "    max_cosine_distance = 0.5\n",
        "    nn_budget = None\n",
        "    nms_max_overlap = 1.0\n",
        "\n",
        "    #initialize deep sort\n",
        "    model_filename = 'model_data/mars-small128.pb'\n",
        "    encoder = gdet.create_box_encoder(model_filename, batch_size=1)\n",
        "    metric = nn_matching.NearestNeighborDistanceMetric(\"cosine\", max_cosine_distance, nn_budget)\n",
        "\n",
        "    tracker = Tracker(metric, max_age=10)\n",
        "\n",
        "    track_label_counter = {}\n",
        "    track_label = {}\n",
        "\n",
        "    track_dict = {}\n",
        "\n",
        "    event_id = 0\n",
        "\n",
        "    f_tracking = open('/content/drive/My Drive/VietAI - Final Project/tracking_baseline/new_tracking/tracking_{}.txt'.format(cam_num), 'w')\n",
        "\n",
        "    image_files = os.listdir('datasets/{}'.format(cam_num))\n",
        "    image_files.sort()\n",
        "    cnt = 0\n",
        "    for frame_id in tqdm(range(len(image_files)), disable=True):\n",
        "      cnt += 1\n",
        "      print(image_files[frame_id])\n",
        "      if (cnt >= 5): break\n",
        "    print('Processing {}'.format(cam_num))\n",
        "\n",
        "    for frame_id in tqdm(range(len(image_files)), disable=True):\n",
        "        # ret, frame = cap.read()\n",
        "        # image = frame.copy()\n",
        "\n",
        "        image = cv2.imread(os.path.join('datasets/{}'.format(cam_num), image_files[frame_id]))\n",
        "        image = cv2.cvtColor(image, cv2.COLOR_BGR2RGB) \n",
        "        image = np.array(image, np.float32) / 255.\n",
        "\n",
        "        bboxes = []\n",
        "        confidents = []\n",
        "        labels = []\n",
        "        dets = []\n",
        "\n",
        "        while True:\n",
        "            e = list(map(float, events[event_id].split(' ')))\n",
        "            if e[0] != frame_id:\n",
        "                break\n",
        "\n",
        "            x_min, y_min, x_max, y_max = np.array(e[1:5], np.int32)\n",
        "            score = e[5]\n",
        "            label = int(e[6])\n",
        "            if label != -1 and score > threshold[label]:\n",
        "                bboxes.append((x_min, y_min, x_max, y_max))\n",
        "                confidents.append(score)\n",
        "                labels.append(label)\n",
        "                dets.append([x_min, y_min, x_max, y_max, label])\n",
        "            event_id += 1\n",
        "            if event_id >= len(events):\n",
        "                break\n",
        "\n",
        "        bboxes = np.array(bboxes)\n",
        "        confidents = np.array(confidents)\n",
        "        labels = np.array(labels)\n",
        "        dets = np.array(dets)\n",
        "\n",
        "        if (frame_id <= 2):\n",
        "          print('len before nms = ', len(bboxes))\n",
        "        \n",
        "        if len(bboxes) > 0:\n",
        "            bboxes, labels, confidents = hard_nms(bboxes, labels, confidents, 0.3)\n",
        "            # from tlbr to tlwh\n",
        "            bboxes[:, 2] -= bboxes[:, 0]\n",
        "            bboxes[:, 3] -= bboxes[:, 1]\n",
        "        if (frame_id <= 2):\n",
        "          print('len after nms = ', len(bboxes))\n",
        "\n",
        "        features = encoder(image, bboxes)\n",
        "        detections = [Detection(bbox, score, feature) for bbox, score, feature in zip(bboxes, confidents, features)]\n",
        "\n",
        "        tracker.predict()\n",
        "        tracker.update(detections)\n",
        "        for track in tracker.tracks:\n",
        "            if not track.is_confirmed() or track.time_since_update > 1:\n",
        "                continue\n",
        "            x_min, y_min, x_max, y_max = track.to_tlbr()\n",
        "            track_id = track.track_id\n",
        "\n",
        "            label = find_tracking_label([x_min, y_min, x_max, y_max], dets)\n",
        "\n",
        "            if track_id not in track_dict.keys():\n",
        "                track_dict[track_id] = [(x_min, y_min, x_max, y_max, frame_id, label)]\n",
        "                track_label_counter[track_id] = {\n",
        "                    -1 : 0, 1 : 0, 2 : 0, 3 : 0, 4 : 0,\n",
        "                }\n",
        "            else:\n",
        "                track_dict[track_id].append((x_min, y_min, x_max, y_max, frame_id, label))\n",
        "            \n",
        "            f_tracking.write('{} {} {} {} {} {} {}\\n'.format(track_id, x_min, y_min, x_max, y_max, frame_id, label))\n",
        "\n",
        "            track_label_counter[track_id][label] += 1\n",
        "            for i in range(1,5):\n",
        "                if track_label_counter[track_id][label] < track_label_counter[track_id][i]:\n",
        "                    label = i\n",
        "            track_label[track_id] = label"
      ],
      "execution_count": null,
      "outputs": [
        {
          "output_type": "stream",
          "text": [
            "Copying and unzipping cam_01\n",
            "/content/DeepSORT/datasets\n",
            "/content/DeepSORT\n",
            "0000.jpg\n",
            "0001.jpg\n",
            "0002.jpg\n",
            "0003.jpg\n",
            "0004.jpg\n",
            "Processing cam_01\n",
            "len before nms =  27\n",
            "len after nms =  16\n"
          ],
          "name": "stdout"
        },
        {
          "output_type": "stream",
          "text": [
            "Exception ignored in: <generator object tqdm_notebook.__iter__ at 0x7f60ae51baf0>\n",
            "Traceback (most recent call last):\n",
            "  File \"/usr/local/lib/python3.6/dist-packages/tqdm/notebook.py\", line 220, in __iter__\n",
            "    self.sp(bar_style='danger')\n",
            "AttributeError: 'tqdm_notebook' object has no attribute 'sp'\n"
          ],
          "name": "stderr"
        },
        {
          "output_type": "stream",
          "text": [
            "len before nms =  34\n",
            "len after nms =  20\n",
            "len before nms =  39\n",
            "len after nms =  21\n"
          ],
          "name": "stdout"
        },
        {
          "output_type": "stream",
          "text": [
            "/usr/local/lib/python3.6/dist-packages/sklearn/utils/linear_assignment_.py:128: FutureWarning: The linear_assignment function is deprecated in 0.21 and will be removed from 0.23. Use scipy.optimize.linear_sum_assignment instead.\n",
            "  FutureWarning)\n"
          ],
          "name": "stderr"
        },
        {
          "output_type": "stream",
          "text": [
            "Copying and unzipping cam_02\n",
            "/content/DeepSORT/datasets\n",
            "/content/DeepSORT\n",
            "0000.jpg\n",
            "0001.jpg\n",
            "0002.jpg\n",
            "0003.jpg\n",
            "0004.jpg\n",
            "Processing cam_02\n",
            "len before nms =  1\n",
            "len after nms =  1\n"
          ],
          "name": "stdout"
        },
        {
          "output_type": "stream",
          "text": [
            "Exception ignored in: <generator object tqdm_notebook.__iter__ at 0x7f610003cca8>\n",
            "Traceback (most recent call last):\n",
            "  File \"/usr/local/lib/python3.6/dist-packages/tqdm/notebook.py\", line 220, in __iter__\n",
            "    self.sp(bar_style='danger')\n",
            "AttributeError: 'tqdm_notebook' object has no attribute 'sp'\n"
          ],
          "name": "stderr"
        },
        {
          "output_type": "stream",
          "text": [
            "len before nms =  1\n",
            "len after nms =  1\n",
            "len before nms =  1\n",
            "len after nms =  1\n",
            "Copying and unzipping cam_03\n",
            "/content/DeepSORT/datasets\n",
            "/content/DeepSORT\n",
            "0000.jpg\n",
            "0001.jpg\n",
            "0002.jpg\n",
            "0003.jpg\n",
            "0004.jpg\n",
            "Processing cam_03\n",
            "len before nms =  23\n",
            "len after nms =  17\n"
          ],
          "name": "stdout"
        },
        {
          "output_type": "stream",
          "text": [
            "Exception ignored in: <generator object tqdm_notebook.__iter__ at 0x7f60ae28ad58>\n",
            "Traceback (most recent call last):\n",
            "  File \"/usr/local/lib/python3.6/dist-packages/tqdm/notebook.py\", line 220, in __iter__\n",
            "    self.sp(bar_style='danger')\n",
            "AttributeError: 'tqdm_notebook' object has no attribute 'sp'\n"
          ],
          "name": "stderr"
        },
        {
          "output_type": "stream",
          "text": [
            "len before nms =  18\n",
            "len after nms =  14\n",
            "len before nms =  17\n",
            "len after nms =  11\n",
            "Copying and unzipping cam_04\n",
            "/content/DeepSORT/datasets\n",
            "/content/DeepSORT\n",
            "0000.jpg\n",
            "0001.jpg\n",
            "0002.jpg\n",
            "0003.jpg\n",
            "0004.jpg\n",
            "Processing cam_04\n",
            "len before nms =  16\n",
            "len after nms =  14\n"
          ],
          "name": "stdout"
        },
        {
          "output_type": "stream",
          "text": [
            "Exception ignored in: <generator object tqdm_notebook.__iter__ at 0x7f60aed1b728>\n",
            "Traceback (most recent call last):\n",
            "  File \"/usr/local/lib/python3.6/dist-packages/tqdm/notebook.py\", line 220, in __iter__\n",
            "    self.sp(bar_style='danger')\n",
            "AttributeError: 'tqdm_notebook' object has no attribute 'sp'\n"
          ],
          "name": "stderr"
        },
        {
          "output_type": "stream",
          "text": [
            "len before nms =  21\n",
            "len after nms =  17\n",
            "len before nms =  26\n",
            "len after nms =  20\n",
            "Copying and unzipping cam_05\n",
            "/content/DeepSORT/datasets\n",
            "/content/DeepSORT\n",
            "0000.jpg\n",
            "0001.jpg\n",
            "0002.jpg\n",
            "0003.jpg\n",
            "0004.jpg\n",
            "Processing cam_05\n",
            "len before nms =  20\n",
            "len after nms =  11\n"
          ],
          "name": "stdout"
        },
        {
          "output_type": "stream",
          "text": [
            "Exception ignored in: <generator object tqdm_notebook.__iter__ at 0x7f60a4d81fc0>\n",
            "Traceback (most recent call last):\n",
            "  File \"/usr/local/lib/python3.6/dist-packages/tqdm/notebook.py\", line 220, in __iter__\n",
            "    self.sp(bar_style='danger')\n",
            "AttributeError: 'tqdm_notebook' object has no attribute 'sp'\n"
          ],
          "name": "stderr"
        },
        {
          "output_type": "stream",
          "text": [
            "len before nms =  20\n",
            "len after nms =  11\n",
            "len before nms =  18\n",
            "len after nms =  11\n",
            "Copying and unzipping cam_06\n",
            "/content/DeepSORT/datasets\n",
            "/content/DeepSORT\n",
            "0000.jpg\n",
            "0001.jpg\n",
            "0002.jpg\n",
            "0003.jpg\n",
            "0004.jpg\n",
            "Processing cam_06\n",
            "len before nms =  29\n",
            "len after nms =  20\n"
          ],
          "name": "stdout"
        },
        {
          "output_type": "stream",
          "text": [
            "Exception ignored in: <generator object tqdm_notebook.__iter__ at 0x7f60a4af2410>\n",
            "Traceback (most recent call last):\n",
            "  File \"/usr/local/lib/python3.6/dist-packages/tqdm/notebook.py\", line 220, in __iter__\n",
            "    self.sp(bar_style='danger')\n",
            "AttributeError: 'tqdm_notebook' object has no attribute 'sp'\n"
          ],
          "name": "stderr"
        },
        {
          "output_type": "stream",
          "text": [
            "len before nms =  31\n",
            "len after nms =  19\n",
            "len before nms =  28\n",
            "len after nms =  18\n",
            "Copying and unzipping cam_07\n",
            "/content/DeepSORT/datasets\n",
            "/content/DeepSORT\n",
            "0000.jpg\n",
            "0001.jpg\n",
            "0002.jpg\n",
            "0003.jpg\n",
            "0004.jpg\n",
            "Processing cam_07\n",
            "len before nms =  7\n",
            "len after nms =  4\n"
          ],
          "name": "stdout"
        },
        {
          "output_type": "stream",
          "text": [
            "Exception ignored in: <generator object tqdm_notebook.__iter__ at 0x7f6112167f68>\n",
            "Traceback (most recent call last):\n",
            "  File \"/usr/local/lib/python3.6/dist-packages/tqdm/notebook.py\", line 220, in __iter__\n",
            "    self.sp(bar_style='danger')\n",
            "AttributeError: 'tqdm_notebook' object has no attribute 'sp'\n"
          ],
          "name": "stderr"
        },
        {
          "output_type": "stream",
          "text": [
            "len before nms =  16\n",
            "len after nms =  7\n",
            "len before nms =  11\n",
            "len after nms =  6\n",
            "Copying and unzipping cam_08\n",
            "/content/DeepSORT/datasets\n",
            "/content/DeepSORT\n",
            "0000.jpg\n",
            "0001.jpg\n",
            "0002.jpg\n",
            "0003.jpg\n",
            "0004.jpg\n",
            "Processing cam_08\n",
            "len before nms =  3\n",
            "len after nms =  2\n"
          ],
          "name": "stdout"
        },
        {
          "output_type": "stream",
          "text": [
            "Exception ignored in: <generator object tqdm_notebook.__iter__ at 0x7f60a408b830>\n",
            "Traceback (most recent call last):\n",
            "  File \"/usr/local/lib/python3.6/dist-packages/tqdm/notebook.py\", line 220, in __iter__\n",
            "    self.sp(bar_style='danger')\n",
            "AttributeError: 'tqdm_notebook' object has no attribute 'sp'\n"
          ],
          "name": "stderr"
        },
        {
          "output_type": "stream",
          "text": [
            "len before nms =  9\n",
            "len after nms =  6\n",
            "len before nms =  4\n",
            "len after nms =  4\n",
            "Copying and unzipping cam_09\n",
            "/content/DeepSORT/datasets\n",
            "/content/DeepSORT\n",
            "0000.jpg\n",
            "0001.jpg\n",
            "0002.jpg\n",
            "0003.jpg\n",
            "0004.jpg\n",
            "Processing cam_09\n",
            "len before nms =  12\n",
            "len after nms =  7\n"
          ],
          "name": "stdout"
        },
        {
          "output_type": "stream",
          "text": [
            "Exception ignored in: <generator object tqdm_notebook.__iter__ at 0x7f60aec1d518>\n",
            "Traceback (most recent call last):\n",
            "  File \"/usr/local/lib/python3.6/dist-packages/tqdm/notebook.py\", line 220, in __iter__\n",
            "    self.sp(bar_style='danger')\n",
            "AttributeError: 'tqdm_notebook' object has no attribute 'sp'\n"
          ],
          "name": "stderr"
        },
        {
          "output_type": "stream",
          "text": [
            "len before nms =  14\n",
            "len after nms =  6\n",
            "len before nms =  8\n",
            "len after nms =  6\n",
            "Copying and unzipping cam_10\n",
            "/content/DeepSORT/datasets\n",
            "/content/DeepSORT\n",
            "0000.jpg\n",
            "0001.jpg\n",
            "0002.jpg\n",
            "0003.jpg\n",
            "0004.jpg\n",
            "Processing cam_10\n",
            "len before nms =  3\n",
            "len after nms =  3\n"
          ],
          "name": "stdout"
        },
        {
          "output_type": "stream",
          "text": [
            "Exception ignored in: <generator object tqdm_notebook.__iter__ at 0x7f60a4e60fc0>\n",
            "Traceback (most recent call last):\n",
            "  File \"/usr/local/lib/python3.6/dist-packages/tqdm/notebook.py\", line 220, in __iter__\n",
            "    self.sp(bar_style='danger')\n",
            "AttributeError: 'tqdm_notebook' object has no attribute 'sp'\n"
          ],
          "name": "stderr"
        },
        {
          "output_type": "stream",
          "text": [
            "len before nms =  1\n",
            "len after nms =  1\n",
            "len before nms =  1\n",
            "len after nms =  1\n"
          ],
          "name": "stdout"
        }
      ]
    }
  ]
}